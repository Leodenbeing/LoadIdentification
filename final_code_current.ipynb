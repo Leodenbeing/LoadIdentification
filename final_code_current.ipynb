{
 "cells": [
  {
   "cell_type": "code",
   "execution_count": 1,
   "metadata": {
    "collapsed": false
   },
   "outputs": [],
   "source": [
    "import cv2\n",
    "import numpy as np\n",
    "import tensorflow as tf\n",
    "import os\n",
    "import random\n",
    "from skimage import io\n",
    "from skimage import filters\n",
    "from datetime import datetime"
   ]
  },
  {
   "cell_type": "code",
   "execution_count": 12,
   "metadata": {
    "collapsed": false
   },
   "outputs": [
    {
     "name": "stdout",
     "output_type": "stream",
     "text": [
      "['AirConditioner', 'CFL', 'Fan', 'Fridge', 'Hairdryer', 'Heater', 'ILB', 'Laptop', 'Microwave', 'Vacuum', 'Washer']\n"
     ]
    }
   ],
   "source": [
    "appliance = ['AirConditioner', 'ILB', 'Fan', 'Fridge', 'Hairdryer', 'Heater', 'CFL', 'Laptop', 'Microwave', 'Vacuum', 'Washer']\n",
    "classifier_data = random.sample(appliance, 11)\n",
    "classifier_data.sort()\n",
    "print(classifier_data)"
   ]
  },
  {
   "cell_type": "code",
   "execution_count": 13,
   "metadata": {
    "collapsed": true
   },
   "outputs": [],
   "source": [
    "def load_image(path):\n",
    "    img_list = []\n",
    "    for rootdir, filedir, filenames in os.walk(path):\n",
    "        for filename in filenames:\n",
    "            img = io.imread(path + filename)\n",
    "            img_flat = np.reshape(img, (1,-1))\n",
    "            img_list.append(img_flat)\n",
    "    return img_list"
   ]
  },
  {
   "cell_type": "code",
   "execution_count": 27,
   "metadata": {
    "collapsed": false
   },
   "outputs": [
    {
     "name": "stdout",
     "output_type": "stream",
     "text": [
      "(0, 'AirConditioner')\n",
      "(1, 'CFL')\n",
      "(2, 'Fan')\n",
      "(3, 'Fridge')\n",
      "(4, 'Hairdryer')\n",
      "(5, 'Heater')\n",
      "(6, 'ILB')\n",
      "(7, 'Laptop')\n",
      "(8, 'Microwave')\n",
      "(9, 'Vacuum')\n",
      "(10, 'Washer')\n"
     ]
    }
   ],
   "source": [
    "data = []\n",
    "labels = []\n",
    "for i in enumerate(classifier_data):\n",
    "    path = \"D:\\\\AnacondaWorkspace\\\\PLAID数据处理\\\\conv2d\\\\32x32\\\\%s\\\\\"%i[1]\n",
    "    request_data = load_image(path)\n",
    "    print(i)\n",
    "    data.extend(np.array(request_data, dtype=np.float32))\n",
    "    for j in range(len(request_data)):\n",
    "        label = np.zeros(len(classifier_data))\n",
    "        label[i[0]] = 1\n",
    "        labels.append(label)\n",
    "\n",
    "data_list = np.array(data, dtype=np.float32)\n",
    "data_flat = np.reshape(data_list, (-1, 2500))\n",
    "labels_list = np.array(labels, dtype=np.float32)"
   ]
  },
  {
   "cell_type": "code",
   "execution_count": 28,
   "metadata": {
    "collapsed": false
   },
   "outputs": [
    {
     "data": {
      "text/plain": [
       "(1074, 2500)"
      ]
     },
     "execution_count": 28,
     "metadata": {},
     "output_type": "execute_result"
    }
   ],
   "source": [
    "data_flat.shape"
   ]
  },
  {
   "cell_type": "code",
   "execution_count": 29,
   "metadata": {
    "collapsed": false
   },
   "outputs": [
    {
     "data": {
      "text/plain": [
       "(1074, 11)"
      ]
     },
     "execution_count": 29,
     "metadata": {},
     "output_type": "execute_result"
    }
   ],
   "source": [
    "labels_list.shape"
   ]
  },
  {
   "cell_type": "code",
   "execution_count": 30,
   "metadata": {
    "collapsed": true
   },
   "outputs": [],
   "source": [
    "from sklearn.model_selection import train_test_split\n",
    "Train_data, Test_data, train_labels,test_labels = train_test_split(\n",
    "    data_flat, labels_list, test_size = 0.3, random_state = 42\n",
    ")"
   ]
  },
  {
   "cell_type": "code",
   "execution_count": 31,
   "metadata": {
    "collapsed": false
   },
   "outputs": [
    {
     "data": {
      "text/plain": [
       "(323, 2500)"
      ]
     },
     "execution_count": 31,
     "metadata": {},
     "output_type": "execute_result"
    }
   ],
   "source": [
    "Test_data.shape"
   ]
  },
  {
   "cell_type": "code",
   "execution_count": 32,
   "metadata": {
    "collapsed": true
   },
   "outputs": [],
   "source": [
    "def weight_variable(shape):\n",
    "    initial = tf.truncated_normal(shape, stddev=0.01)\n",
    "    return tf.Variable(initial)\n",
    "def bias_variable(shape):\n",
    "    initial = tf.constant(0.0, shape=shape)\n",
    "    return tf.Variable(initial)\n",
    "def conv2d(x, W):\n",
    "    return tf.nn.conv2d(x, W, strides=[1,1,1,1], padding='SAME')\n",
    "def max_pool_2x2(x):\n",
    "    return tf.nn.max_pool(x, ksize=[1,2,2,1], strides=[1,2,2,1], padding='SAME')"
   ]
  },
  {
   "cell_type": "code",
   "execution_count": 33,
   "metadata": {
    "collapsed": false
   },
   "outputs": [
    {
     "data": {
      "text/plain": [
       "11"
      ]
     },
     "execution_count": 33,
     "metadata": {},
     "output_type": "execute_result"
    }
   ],
   "source": [
    "len(classifier_data)"
   ]
  },
  {
   "cell_type": "code",
   "execution_count": 34,
   "metadata": {
    "collapsed": false
   },
   "outputs": [],
   "source": [
    "def train():\n",
    "    xs = tf.placeholder(tf.float32, [None, 50*50*1], name='input')\n",
    "    ys = tf.placeholder(tf.float32, [None, len(classifier_data)], name='label')\n",
    "    keep_prob = tf.placeholder(tf.float32)\n",
    "    x_image = tf.reshape(xs, [-1, 50, 50, 1])\n",
    "    #conv1 \n",
    "    W_conv1 = weight_variable([5,5,1,50])\n",
    "    b_conv1 = bias_variable([50])\n",
    "    h_conv1 = tf.nn.relu(conv2d(x_image, W_conv1) + b_conv1)\n",
    "    h_pool1 = max_pool_2x2(h_conv1)\n",
    "    #conv2\n",
    "    W_conv2 = weight_variable([5,5,50,50])\n",
    "    b_conv2 = bias_variable([50])\n",
    "    h_conv2 = tf.nn.leaky_relu(conv2d(h_pool1, W_conv2) + b_conv2)\n",
    "    h_pool2 = max_pool_2x2(h_conv2)\n",
    "    #conv3\n",
    "#     W_conv3 = weight_variable([3,3,16,32])\n",
    "#     b_conv3 = bias_variable([32])\n",
    "#     h_conv3 = tf.nn.leaky_relu(conv2d(h_pool1, W_conv2) + b_conv2)\n",
    "# #     h_pool2 = max_pool_2x2(h_conv2) \n",
    "    \n",
    "    \n",
    "    nodes=np.int(h_pool2.shape[1]*h_pool2.shape[2]*h_pool2.shape[3])\n",
    "    \n",
    "#         #  fc1 layer\n",
    "    W_fc1 = weight_variable([nodes, 2500])\n",
    "    b_fc1 = bias_variable([2500])\n",
    "    h_pool2_flat = tf.reshape(h_pool2, [-1, nodes])\n",
    "#     h_pool2_flat = tf.reshape(h_conv1, [-1, nodes])\n",
    "    h_fc1 = tf.nn.relu(tf.matmul(h_pool2_flat, W_fc1) + b_fc1)\n",
    "    h_fc1_drop = tf.nn.dropout(h_fc1, keep_prob=1.)\n",
    "    \n",
    "    #  fc2 layer\n",
    "    W_fc2 = weight_variable([2500, len(classifier_data)])\n",
    "    b_fc2 = bias_variable([len(classifier_data)])\n",
    "    \n",
    "    prediction = tf.nn.softmax(tf.matmul(h_fc1_drop, W_fc2) + b_fc2, name='softmax')\n",
    "    label = tf.argmax(prediction, 1, name='output')\n",
    "    \n",
    "\n",
    "    corrrect_prediction = tf.equal(tf.argmax(prediction, 1), tf.argmax(ys, 1))\n",
    "    accuracy = tf.reduce_mean(tf.cast(corrrect_prediction, tf.float32))\n",
    "    \n",
    "    #loss\n",
    "    cross_entropy = tf.reduce_mean(\n",
    "        -tf.reduce_sum(ys * tf.log(prediction), 1)\n",
    "    )\n",
    "    \n",
    "    learning_rate = 0.0001\n",
    "    train_step = tf.train.AdamOptimizer(learning_rate=learning_rate).minimize(cross_entropy)\n",
    "  \n",
    "    saver = tf.train.Saver(max_to_keep=3)\n",
    "    \n",
    "    do_train = 1\n",
    "    sess = tf.Session()\n",
    "    sess.run(tf.global_variables_initializer())\n",
    "\n",
    "    round_num = 64\n",
    "    train_epoch = 1001\n",
    "    start = datetime.now()\n",
    "    result = []\n",
    "    labels = []\n",
    "    if do_train == 1:\n",
    "        for epoch in range(train_epoch):\n",
    "            batch_xs = []\n",
    "            batch_ys = []\n",
    "            for i in range(round_num):\n",
    "                rand_num = random.randint(0, Train_data.shape[0] - 1)\n",
    "                batch_xs.append(Train_data[rand_num])\n",
    "                batch_ys.append(train_labels[rand_num])\n",
    "            cost_train, _=sess.run([cross_entropy,train_step],feed_dict={xs:batch_xs, ys:batch_ys, keep_prob: 1.0})\n",
    "            if epoch % 2 == 0:\n",
    "                state = np.random.get_state()\n",
    "                np.random.shuffle(Test_data)\n",
    "                np.random.set_state(state)\n",
    "                np.random.shuffle(test_labels)\n",
    "                pred_train = sess.run(accuracy,feed_dict={xs: batch_xs, ys: batch_ys, keep_prob:1.0})\n",
    "                \n",
    "                cost_test, pred_test, pred = sess.run([cross_entropy, accuracy, label],feed_dict={xs: Test_data, ys: test_labels, keep_prob:1.0})\n",
    "                labels.append(pred)\n",
    "                result.append([(datetime.now() - start).total_seconds(), pred_test, cost_train, pred_train, cost_test])\n",
    "                print(\"step\",epoch ,\"test acc is :\",pred_test,\"cost is :\", cost_test)\n",
    "#     if do_train == 0:\n",
    "#         epoch = train_epoch - 1\n",
    "#         saver.restore(sess, \"save/nets/cnn_mnist_basic.ckpt\" )\n",
    "#         result = sess.run(prediction, feed_dict={xs:test_data, ys:test_label, keep_prob:1.})\n",
    "#         print(result)\n",
    "    return result, labels\n",
    "tf.reset_default_graph()"
   ]
  },
  {
   "cell_type": "code",
   "execution_count": null,
   "metadata": {
    "collapsed": false
   },
   "outputs": [
    {
     "name": "stdout",
     "output_type": "stream",
     "text": [
      "step 0 test acc is : 0.43343654 cost is : 1.815661\n",
      "step 2 test acc is : 0.7058824 cost is : 1.242919\n",
      "step 4 test acc is : 0.5975232 cost is : 1.1251585\n",
      "step 6 test acc is : 0.69349843 cost is : 0.8937388\n",
      "step 8 test acc is : 0.7027864 cost is : 0.9110401\n",
      "step 10 test acc is : 0.74613005 cost is : 0.7520398\n",
      "step 12 test acc is : 0.7647059 cost is : 0.6710623\n",
      "step 14 test acc is : 0.78328174 cost is : 0.6396083\n",
      "step 16 test acc is : 0.7987616 cost is : 0.61170715\n",
      "step 18 test acc is : 0.8111455 cost is : 0.5731477\n",
      "step 20 test acc is : 0.8266254 cost is : 0.5264839\n",
      "step 22 test acc is : 0.81733745 cost is : 0.5524136\n",
      "step 24 test acc is : 0.8049536 cost is : 0.5714894\n",
      "step 26 test acc is : 0.80804956 cost is : 0.5631213\n",
      "step 28 test acc is : 0.8328173 cost is : 0.52754176\n",
      "step 30 test acc is : 0.81424147 cost is : 0.526518\n",
      "step 32 test acc is : 0.84210527 cost is : 0.49670517\n",
      "step 34 test acc is : 0.8328173 cost is : 0.61708695\n",
      "step 36 test acc is : 0.8111455 cost is : 0.6564657\n",
      "step 38 test acc is : 0.8235294 cost is : 0.5666412\n",
      "step 40 test acc is : 0.8359133 cost is : 0.52732635\n",
      "step 42 test acc is : 0.8637771 cost is : 0.4883187\n",
      "step 44 test acc is : 0.85758513 cost is : 0.4843834\n",
      "step 46 test acc is : 0.8359133 cost is : 0.47645158\n",
      "step 48 test acc is : 0.8297214 cost is : 0.48843664\n",
      "step 50 test acc is : 0.8266254 cost is : 0.50289834\n",
      "step 52 test acc is : 0.84829724 cost is : 0.44959414\n",
      "step 54 test acc is : 0.8606811 cost is : 0.42146194\n"
     ]
    }
   ],
   "source": [
    "result_data, prediction = train()"
   ]
  },
  {
   "cell_type": "code",
   "execution_count": null,
   "metadata": {
    "collapsed": true
   },
   "outputs": [],
   "source": []
  },
  {
   "cell_type": "code",
   "execution_count": 13,
   "metadata": {
    "collapsed": true
   },
   "outputs": [],
   "source": [
    "y = []\n",
    "for i in range(len(test_labels)):\n",
    "    y.append(np.argmax(test_labels[i],0))\n",
    "y = np.array(y, dtype=np.int32)"
   ]
  },
  {
   "cell_type": "code",
   "execution_count": 14,
   "metadata": {
    "collapsed": false
   },
   "outputs": [
    {
     "data": {
      "text/plain": [
       "array([ 8,  5,  8,  4,  2,  1,  2,  8,  4,  6, 10,  1,  6,  8,  4,  4,  6,\n",
       "        9,  8,  7,  4,  7,  2,  7,  0,  1,  6,  2,  1,  2,  7,  7,  9,  6,\n",
       "        9,  2,  7,  2,  2,  7,  2,  8,  2,  2,  2,  4,  6,  6,  2,  0,  7,\n",
       "        8,  6,  4,  7,  8,  2,  2,  4,  7,  0,  8,  4,  1,  2,  7,  9,  2,\n",
       "        3,  0,  7,  6,  9,  2,  1,  2,  1,  7,  8,  6,  1,  1,  7,  1,  0,\n",
       "        1,  0,  2,  8,  8,  6,  9,  4,  7,  1,  1,  8,  1,  8,  4,  4,  3,\n",
       "        5,  1,  0,  4,  8,  6,  1,  8,  8,  7,  6,  1,  4,  0,  4,  4,  2,\n",
       "        7,  8,  2,  7,  2,  0,  5,  0,  4,  4,  8,  8,  4,  7,  8,  4,  2,\n",
       "        4,  7,  4,  2,  2,  2,  2,  6,  8,  7,  9,  8,  1,  7,  6,  2,  7,\n",
       "        3,  6,  4,  7,  1,  6,  1,  8,  7,  5,  1,  7,  2,  9,  0,  7,  5,\n",
       "        1,  8,  2,  7,  4,  4,  8,  1,  3, 10,  7,  4,  4,  7,  4,  6,  3,\n",
       "        1,  0,  1,  2,  6,  4,  1,  4,  7,  4,  8,  4,  4,  5,  7,  7,  7,\n",
       "        8,  7,  7,  5,  8,  0,  4,  1,  1,  6,  4,  1,  5,  3,  1,  2,  2,\n",
       "        1,  1,  2,  0,  7,  2,  6,  7,  8,  1,  0,  9,  2,  2,  0,  7,  9,\n",
       "        5, 10,  4,  2,  2,  8,  2,  3,  7,  8,  7,  5,  8,  0, 10,  2,  2,\n",
       "        4,  5,  6,  1,  1,  0,  7,  4,  4,  4,  6,  6,  7,  1,  6,  1,  6,\n",
       "        7,  9,  6,  7,  7,  6,  1,  6,  8,  7,  8,  9,  2, 10,  1,  1,  8,\n",
       "       10,  4,  0,  7,  0,  7,  8,  8,  2,  6,  7,  4,  0,  6,  1,  1,  7,\n",
       "        6,  2,  3,  3,  2,  3,  5,  4,  6,  4,  0,  2,  7,  4,  7,  6,  5],\n",
       "      dtype=int64)"
      ]
     },
     "execution_count": 14,
     "metadata": {},
     "output_type": "execute_result"
    }
   ],
   "source": [
    "prediction[-1]"
   ]
  },
  {
   "cell_type": "code",
   "execution_count": 15,
   "metadata": {
    "collapsed": false
   },
   "outputs": [
    {
     "data": {
      "text/plain": [
       "array([ 8,  5,  8,  4,  2,  1,  2,  8,  4,  6, 10,  1,  6,  8,  4,  4,  6,\n",
       "        9,  8,  7,  4,  7,  2,  7,  0,  1,  3,  2,  1,  2,  7,  4,  9,  6,\n",
       "        9,  0,  7,  2,  2,  0,  2,  8,  2,  2,  4,  4,  6,  6,  2,  0,  7,\n",
       "        8,  6,  4,  7,  8,  2,  2,  4,  7,  0,  8,  4,  1,  2,  7,  9,  2,\n",
       "        3,  5,  7,  6,  9,  2,  1,  2,  1,  7,  8,  6,  1,  1,  7,  1,  0,\n",
       "        1,  0,  2,  8,  8,  6,  9,  4,  7,  1,  1,  8,  1,  8,  4,  4,  3,\n",
       "        5,  1,  3,  4,  8,  6,  1,  8,  8,  7,  6,  1,  4,  0,  4,  4,  0,\n",
       "        7,  8,  2,  7,  2,  0,  5,  0,  4,  4,  8,  8,  4,  7,  8,  4,  2,\n",
       "        4,  7,  4,  2,  2,  2,  2,  6,  8,  7,  9,  8,  1,  7,  6,  2,  7,\n",
       "        3,  3,  4,  7,  1,  6,  1,  8,  1,  4,  1,  7,  2,  9,  0,  7,  5,\n",
       "        1,  8,  2,  7,  4,  4,  8,  1,  0, 10,  7,  4,  4,  7,  4,  6,  3,\n",
       "        1,  0,  1,  2,  6,  4,  1,  4,  7,  4,  8,  4,  4,  5,  7,  7,  7,\n",
       "        8,  7,  7,  5,  8,  3,  4,  1,  1,  6,  4,  1,  4,  6,  1,  2,  2,\n",
       "        1,  1,  2,  2,  7,  2,  6,  7,  8,  1,  0,  9,  2,  2,  0,  1,  9,\n",
       "        5, 10,  4,  2,  2,  8,  2,  0,  1,  8,  7,  5,  8,  4, 10,  2,  2,\n",
       "        4,  5,  6,  1,  1,  0,  7,  4,  4,  4,  6,  6,  7,  1,  6,  1,  6,\n",
       "        7,  9,  6,  7,  7,  6,  1,  6,  8,  7,  8,  9,  2, 10,  1,  1,  8,\n",
       "       10,  4,  0,  7,  2,  7,  8,  8,  2, 10,  1,  4,  2,  6,  1,  1,  7,\n",
       "        6,  2,  0,  3,  2,  3,  5,  4,  6,  4,  0,  2,  7,  4,  7,  6,  5])"
      ]
     },
     "execution_count": 15,
     "metadata": {},
     "output_type": "execute_result"
    }
   ],
   "source": [
    "y"
   ]
  },
  {
   "cell_type": "code",
   "execution_count": 16,
   "metadata": {
    "collapsed": false
   },
   "outputs": [
    {
     "name": "stdout",
     "output_type": "stream",
     "text": [
      "                precision    recall  f1-score   support\n",
      "\n",
      "AirConditioner       0.68      0.71      0.70        21\n",
      "           ILB       1.00      0.91      0.95        46\n",
      "           Fan       0.94      0.94      0.94        48\n",
      "        Fridge       0.60      0.60      0.60        10\n",
      "     Hairdryer       1.00      0.90      0.95        50\n",
      "        Heater       0.85      0.92      0.88        12\n",
      "           CFL       0.91      0.97      0.94        32\n",
      "        Laptop       0.89      1.00      0.94        47\n",
      "     Microwave       1.00      1.00      1.00        38\n",
      "        Vacuum       1.00      1.00      1.00        12\n",
      "        Washer       1.00      0.86      0.92         7\n",
      "\n",
      "      accuracy                           0.92       323\n",
      "     macro avg       0.90      0.89      0.89       323\n",
      "  weighted avg       0.93      0.92      0.92       323\n",
      "\n"
     ]
    }
   ],
   "source": [
    "from sklearn.metrics import classification_report\n",
    "y_true = y\n",
    "y_pred = prediction[-1]\n",
    "target_name = classifier_data\n",
    "print(classification_report(y_true, y_pred, target_names=appliance))"
   ]
  },
  {
   "cell_type": "code",
   "execution_count": 23,
   "metadata": {
    "collapsed": false
   },
   "outputs": [
    {
     "data": {
      "image/png": "[encoded data removed]",
      "text/plain": [
       "<Figure size 432x288 with 1 Axes>"
      ]
     },
     "metadata": {},
     "output_type": "display_data"
    }
   ],
   "source": [
    "import matplotlib.pyplot as plt\n",
    "import seaborn as sns; sns.set()\n",
    "from sklearn.metrics import confusion_matrix\n",
    "%matplotlib inline\n",
    "\n",
    "mat = confusion_matrix(y_true, y_pred)\n",
    "sns.heatmap(mat.T, square=True, annot=True, fmt='d', cbar=False,\n",
    "            xticklabels=target_name,\n",
    "            yticklabels=target_name)\n",
    "plt.xlabel('true label')\n",
    "plt.ylabel('predicted label');"
   ]
  },
  {
   "cell_type": "code",
   "execution_count": 24,
   "metadata": {
    "collapsed": false
   },
   "outputs": [
    {
     "data": {
      "text/plain": [
       "[<matplotlib.lines.Line2D at 0x2bc1b6a94e0>]"
      ]
     },
     "execution_count": 24,
     "metadata": {},
     "output_type": "execute_result"
    },
    {
     "data": {
      "image/png": "[encoded data removed]",
      "text/plain": [
       "<Figure size 432x288 with 1 Axes>"
      ]
     },
     "metadata": {},
     "output_type": "display_data"
    }
   ],
   "source": [
    "import matplotlib.pyplot as plt\n",
    "%matplotlib inline\n",
    "\n",
    "x_data_test = [v[0] for v in result_data]\n",
    "y_data_test = [v[1] for v in result_data]\n",
    "\n",
    "x_data_train = [v[0] for v in result_data]\n",
    "y_data_train = [v[3] for v in result_data]\n",
    "plt.xlabel('time(s)')\n",
    "plt.ylabel('prediction rate(%)')\n",
    "plt.plot(x_data_test, y_data_test, '-', c='r')\n",
    "plt.plot(x_data_train, y_data_train, '-', c='b')"
   ]
  },
  {
   "cell_type": "code",
   "execution_count": null,
   "metadata": {
    "collapsed": true
   },
   "outputs": [],
   "source": []
  }
 ],
 "metadata": {
  "anaconda-cloud": {},
  "kernelspec": {
   "display_name": "Python [default]",
   "language": "python",
   "name": "python3"
  },
  "language_info": {
   "codemirror_mode": {
    "name": "ipython",
    "version": 3
   },
   "file_extension": ".py",
   "mimetype": "text/x-python",
   "name": "python",
   "nbconvert_exporter": "python",
   "pygments_lexer": "ipython3",
   "version": "3.5.2"
  }
 },
 "nbformat": 4,
 "nbformat_minor": 2
}
