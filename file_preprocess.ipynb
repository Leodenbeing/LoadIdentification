{
 "cells": [
  {
   "cell_type": "code",
   "execution_count": 1,
   "metadata": {},
   "outputs": [],
   "source": [
    "Data_path = 'PLAID/'"
   ]
  },
  {
   "cell_type": "code",
   "execution_count": 2,
   "metadata": {},
   "outputs": [
    {
     "name": "stdout",
     "output_type": "stream",
     "text": [
      "PLAID/CSV/\n"
     ]
    }
   ],
   "source": [
    "import os\n",
    "import numpy as np\n",
    "import matplotlib.pyplot as plt\n",
    "%matplotlib inline\n",
    "import shutil\n",
    "csv_path = Data_path + 'CSV/'\n",
    "csv_files = os.listdir(csv_path)\n",
    "print(csv_path)"
   ]
  },
  {
   "cell_type": "code",
   "execution_count": 3,
   "metadata": {},
   "outputs": [],
   "source": [
    "import subprocess\n",
    "\n",
    "def read_data_given_id(path,ids,progress=False,last_offset=0):\n",
    "    '''read data given a list of ids and CSV paths'''\n",
    "    n = len(ids)\n",
    "    if n == 0:\n",
    "        return {}\n",
    "    else:\n",
    "        data = {}\n",
    "        for (i,ist_id) in enumerate(ids, start=1):\n",
    "            if progress:\n",
    "                print('%d/%d is being read...'%(i,n))\n",
    "            if last_offset==0:\n",
    "                data[ist_id] = np.genfromtxt(path+str(ist_id)+'.csv',\n",
    "                delimiter=',',names='current,voltage',dtype=(float,float))\n",
    "            else:\n",
    "                p=subprocess.Popen(['tail','-'+str(int(offset)),path+\n",
    "                    str(ist_id)+'.csv'],stdout=subprocess.PIPE)\n",
    "                data[ist_id] = np.genfromtxt(p.stdout,delimiter=',',\n",
    "                    names='current,voltage',dtype=(float,float))\n",
    "        return data"
   ]
  },
  {
   "cell_type": "code",
   "execution_count": 4,
   "metadata": {},
   "outputs": [],
   "source": [
    "import json\n",
    "\n",
    "with open(Data_path + 'meta1.json') as data_file:    \n",
    "    meta1 = json.load(data_file)\n",
    "\n",
    "\n",
    "meta = [meta1]"
   ]
  },
  {
   "cell_type": "code",
   "execution_count": 5,
   "metadata": {},
   "outputs": [],
   "source": [
    "def clean_meta(ist):\n",
    "    '''remove '' elements in Meta Data ''' \n",
    "    clean_ist = ist.copy()\n",
    "    for k,v in ist.items():\n",
    "#         if \n",
    "        if len(v) == 0:\n",
    "            del clean_ist[k]\n",
    "    return clean_ist\n",
    "                \n",
    "def parse_meta(meta):\n",
    "    '''parse meta data for easy access'''\n",
    "    M = {}\n",
    "    for m in meta:\n",
    "        for app in m:\n",
    "            M[int(app['id'])] = clean_meta(app['meta'])\n",
    "    return M"
   ]
  },
  {
   "cell_type": "code",
   "execution_count": 6,
   "metadata": {},
   "outputs": [],
   "source": [
    "def mvPLAIDCSVFile(fileName, applianceList):\n",
    "    os.mkdir('./PLAIDsets/%s'%fileName)\n",
    "    old_path = \"./PLAID/CSV/\"\n",
    "    new_path = \"./PLAIDsets/%s/\"%fileName\n",
    "    for rootdir, filedir, filenames in os.walk(old_path):\n",
    "        for filename in filenames:\n",
    "            fileNum, fileType = filename.split('.', 1)\n",
    "            if int(fileNum) in applianceList:\n",
    "                old_name = old_path + '/' + filename\n",
    "                new_name = new_path + '/' + filename\n",
    "                shutil.copyfile(old_name, new_name)"
   ]
  },
  {
   "cell_type": "code",
   "execution_count": 7,
   "metadata": {},
   "outputs": [],
   "source": [
    "Meta = parse_meta(meta)"
   ]
  },
  {
   "cell_type": "code",
   "execution_count": 8,
   "metadata": {},
   "outputs": [],
   "source": [
    "Types = [x['type'] for x in Meta.values()]\n",
    "# unique appliance types\n",
    "Unq_type = list(set(Types))"
   ]
  },
  {
   "cell_type": "code",
   "execution_count": 9,
   "metadata": {},
   "outputs": [
    {
     "data": {
      "text/plain": [
       "['Fan',\n",
       " 'Vacuum',\n",
       " 'Laptop',\n",
       " 'Compact Fluorescent Lamp',\n",
       " 'Washing Machine',\n",
       " 'Incandescent Light Bulb',\n",
       " 'Hairdryer',\n",
       " 'Air Conditioner',\n",
       " 'Fridge',\n",
       " 'Heater',\n",
       " 'Microwave']"
      ]
     },
     "execution_count": 9,
     "metadata": {},
     "output_type": "execute_result"
    }
   ],
   "source": [
    "Unq_type"
   ]
  },
  {
   "cell_type": "code",
   "execution_count": 10,
   "metadata": {},
   "outputs": [],
   "source": [
    "# for i in range(len(Unq_type)):\n",
    "#     applianceList = []\n",
    "#     for j in range(1, 1075):\n",
    "#         if Meta[j]['type'] == Unq_type[i]:\n",
    "#             applianceList.append(j)\n",
    "#     mvPLAIDCSVFile(Unq_type[i], applianceList)"
   ]
  },
  {
   "cell_type": "markdown",
   "metadata": {},
   "source": [
    "# 轨迹生成图像"
   ]
  },
  {
   "cell_type": "code",
   "execution_count": 11,
   "metadata": {},
   "outputs": [],
   "source": [
    "import pandas as pd\n",
    "import numpy as np\n",
    "import random\n",
    "import os\n",
    "import matplotlib.pyplot as plt\n",
    "%matplotlib inline\n",
    "import scipy.signal as signal\n",
    "import matplotlib as mpl\n",
    "from mpl_toolkits.mplot3d import Axes3D\n",
    "import seaborn as sns\n",
    "#import cv2\n",
    "#sns.set_style('darkgrid')\n",
    "import matplotlib\n",
    "font = {'family' : 'sans-serif',\n",
    "        'weight' : 'normal',\n",
    "        'size'   : 20}\n",
    "matplotlib.rc('font', **font)\n",
    "import warnings\n",
    "warnings.filterwarnings(\"ignore\")\n",
    "plt.rcParams['font.sans-serif'] = ['SimHei']\n",
    "plt.rcParams['axes.unicode_minus'] = False\n",
    "import matplotlib.cm as cm"
   ]
  },
  {
   "cell_type": "code",
   "execution_count": 12,
   "metadata": {},
   "outputs": [],
   "source": [
    "def find_max_index(ste_volatge):\n",
    "    reset = 0\n",
    "    result_list = []\n",
    "    data = []\n",
    "    get_voltage = list(ste_volatge)\n",
    "    for i in range(1000):\n",
    "        result_list.append(get_voltage.index(max(get_voltage)))\n",
    "        get_voltage[get_voltage.index(max(get_voltage))] = reset\n",
    "    result_list.sort()\n",
    "    for i in range(len(result_list) - 1):\n",
    "        if abs(result_list[i] - result_list[i+1]) > 100:\n",
    "            data.append(result_list[i] - 50)\n",
    "    return data"
   ]
  },
  {
   "cell_type": "code",
   "execution_count": 13,
   "metadata": {},
   "outputs": [],
   "source": [
    "def rolling_window(ste_data, winlen):\n",
    "    df = pd.Series(ste_data, index=range(len(ste_data)))\n",
    "    return np.array(df.rolling(window=winlen).mean().dropna(), dtype=np.float32)"
   ]
  },
  {
   "cell_type": "code",
   "execution_count": 14,
   "metadata": {},
   "outputs": [],
   "source": [
    "def zero_mean(ste_data):\n",
    "    return (2 *(ste_data - np.min(ste_data)) / (np.max(ste_data) - np.min(ste_data))) - 1"
   ]
  },
  {
   "cell_type": "code",
   "execution_count": 15,
   "metadata": {},
   "outputs": [],
   "source": [
    "# def odd(num, N):\n",
    "#     if num > 0:\n",
    "#         rest_num =  (num - 1/N)\n",
    "#         if rest_num > 0:\n",
    "#             return int(N/2) + int(rest_num*N / 2) + 1\n",
    "#         else:\n",
    "#             return int(N/2)\n",
    "#     else:\n",
    "#         rest_num = (abs(num) - 1/N)\n",
    "#         if rest_num>0:\n",
    "#             return int(N/2) - int(N *rest_num/ 2) - 1\n",
    "#         else:\n",
    "#             return int(N/2)\n",
    "# def even(num, N):\n",
    "#     if num >= 0:\n",
    "#         return int(N * num / 2) + N/2\n",
    "#     else:\n",
    "#         return int(N/2) - int(N*abs(num)/2) - 1"
   ]
  },
  {
   "cell_type": "code",
   "execution_count": 16,
   "metadata": {},
   "outputs": [],
   "source": [
    "def odd(num, N):\n",
    "    if num > 0:\n",
    "        rest_num =  (num - 1/N)\n",
    "        if rest_num > 0:\n",
    "            return int(N/2) + int(rest_num*N / 2) + 1\n",
    "        else:\n",
    "            return int(N/2)\n",
    "    else:\n",
    "        rest_num = (abs(num) - 1/N)\n",
    "        if rest_num>0:\n",
    "            return int(N/2) - int(N *rest_num/ 2) - 1\n",
    "        else:\n",
    "            return int(N/2)\n",
    "def even(num, N):\n",
    "    if num >= 0:\n",
    "        if int(N * num / 2) + N / 2 <= N - 1:\n",
    "            return int(N * num / 2) + N/2\n",
    "        else:\n",
    "            return N - 1\n",
    "    else:\n",
    "        if int(N/2) - int(N*abs(num)/2) >= 0:\n",
    "            return int(N/2) - int(N*abs(num)/2)\n",
    "        else:\n",
    "            return 0"
   ]
  },
  {
   "cell_type": "code",
   "execution_count": 17,
   "metadata": {},
   "outputs": [],
   "source": [
    "# data_test = pd.read_csv('./PLAID/CSV/585.csv', names = ['current', 'voltage'])\n",
    "# _I = np.array(data_test['current'][-30000:-25000], dtype=np.float32)\n",
    "# _V = np.array(data_test['voltage'][-30000:-25000], dtype=np.float32)\n",
    "# _I = rolling_window(rolling_window(zero_mean(_I), 10), 10)\n",
    "# _V = rolling_window(rolling_window(zero_mean(_V), 10), 10)"
   ]
  },
  {
   "cell_type": "code",
   "execution_count": 18,
   "metadata": {},
   "outputs": [],
   "source": [
    "# data_peak_index = find_max_index(_V)\n",
    "# data = []\n",
    "# for i in range(data_peak_index[2], data_peak_index[3]+10, 100):\n",
    "#     data.append(i)\n",
    "# norm_len_cur_my = _I[data[0]:data[-1]]\n",
    "# norm_len_vol_my = _V[data[0]:data[-1]]"
   ]
  },
  {
   "cell_type": "code",
   "execution_count": 19,
   "metadata": {},
   "outputs": [],
   "source": [
    "# for i in range(len(_I)):\n",
    "#     if int(even(_I[i],28)) <0 or  int(even(_V[i],28)) <0:\n",
    "#         print(int(even(_V[i],28)), int(even(_V[i],28)))"
   ]
  },
  {
   "cell_type": "code",
   "execution_count": 32,
   "metadata": {},
   "outputs": [
    {
     "data": {
      "image/png": "[encoded data removed]",
      "text/plain": [
       "<Figure size 50.4x50.4 with 1 Axes>"
      ]
     },
     "metadata": {},
     "output_type": "display_data"
    }
   ],
   "source": [
    "fig = plt.figure(figsize=(5,5))\n",
    "\n",
    "trajectory = np.zeros([36,36])\n",
    "for i in range(len(_I)):\n",
    "    trajectory[int(even(_V[i],36))][int(even(_I[i],36))] = 1\n",
    "plt.imshow(trajectory[::-1],cmap = cm.Greys_r,interpolation='None')\n",
    "plt.tick_params(axis='both',which='both',labelbottom='off',labelleft='off')\n",
    "fig.set_size_inches(70/100.0,70/100.0)#输出width*height像素\n",
    "plt.gca().xaxis.set_major_locator(plt.NullLocator())\n",
    "plt.gca().yaxis.set_major_locator(plt.NullLocator())\n",
    "plt.subplots_adjust(top=1,bottom=0,left=0,right=1,hspace =0, wspace =0)\n",
    "plt.margins(0,0)\n",
    "plt.savefig('./fan.jpg', cmap=cm.Greys_r)#path为你将保存图片的路径。"
   ]
  },
  {
   "cell_type": "code",
   "execution_count": null,
   "metadata": {},
   "outputs": [],
   "source": []
  },
  {
   "cell_type": "code",
   "execution_count": 20,
   "metadata": {},
   "outputs": [],
   "source": [
    "# os.mkdir(targetPath)"
   ]
  },
  {
   "cell_type": "code",
   "execution_count": 26,
   "metadata": {},
   "outputs": [],
   "source": [
    "def makeBinaryImage(originalPath,targetPath,appliance):\n",
    "    targetPath = targetPath + os.sep + appliance\n",
    "    originalPath = originalPath + os.sep + appliance\n",
    "    if not (os.path.exists(targetPath)):\n",
    "        os.mkdir(targetPath)\n",
    "    for rootdir, dirname, filenames in os.walk(originalPath):\n",
    "        for filename in filenames:\n",
    "            fileNum, fileType = filename.split('.', 1)\n",
    "            data_test = pd.read_csv(originalPath + os.sep + filename, \n",
    "                                    names = ['current', 'voltage'])\n",
    "            _I = np.array(data_test['current'][-10000:-5000], dtype=np.float32)\n",
    "            _V = np.array(data_test['voltage'][-10000:-5000], dtype=np.float32)\n",
    "            _I = rolling_window(rolling_window(zero_mean(_I), 10), 10)\n",
    "            _V = rolling_window(rolling_window(zero_mean(_V), 10), 10)\n",
    "            fig = plt.figure(figsize=(1,1))\n",
    "            trajectory = np.zeros([16,16])\n",
    "            #print(fileNum)\n",
    "            for i in range(len(_I)):\n",
    "                trajectory[int(even(_V[i],16))][int(even(_I[i],16))] = 1\n",
    "            plt.imshow(trajectory[::-1],cmap = cm.Greys_r,interpolation='None')\n",
    "            plt.plot(_I, _V)\n",
    "            plt.tick_params(axis='both',which='both',labelbottom='off',labelleft='off')\n",
    "            fig.set_size_inches(70/100.0,70/100.0)#输出width*height像素\n",
    "            plt.gca().xaxis.set_major_locator(plt.NullLocator())\n",
    "            plt.gca().yaxis.set_major_locator(plt.NullLocator())\n",
    "            plt.subplots_adjust(top=1,bottom=0,left=0,right=1,hspace =0, wspace =0)\n",
    "            plt.margins(0,0)\n",
    "            plt.savefig(targetPath + os.sep + fileNum + '.jpg')#path为你将保存图片的路径。\n",
    "            plt.clf()"
   ]
  },
  {
   "cell_type": "code",
   "execution_count": 28,
   "metadata": {},
   "outputs": [],
   "source": [
    "# for i in Unq_type:\n",
    "#     makeBinaryImage('./PLAIDsets/CSVset/', './PLAIDsets/16x16/', i)"
   ]
  },
  {
   "cell_type": "code",
   "execution_count": 23,
   "metadata": {},
   "outputs": [],
   "source": [
    "# for rootdir, filedir, filenames in os.walk('./PLAIDsets/16x16/'):\n",
    "# #     print(filenames)"
   ]
  },
  {
   "cell_type": "code",
   "execution_count": 39,
   "metadata": {},
   "outputs": [
    {
     "data": {
      "image/png": "[encoded data removed]",
      "text/plain": [
       "<Figure size 1152x720 with 5 Axes>"
      ]
     },
     "metadata": {
      "needs_background": "light"
     },
     "output_type": "display_data"
    }
   ],
   "source": [
    "import matplotlib.cm as cm\n",
    "fig = plt.figure(figsize=(16,10))\n",
    "for j in range(5):\n",
    "    trajectory_I1 = norm_len_cur_my[j*100:(j+1)*100]\n",
    "    trajectory_V1 = norm_len_vol_my[j*100:(j+1)*100]\n",
    "    ax = fig.add_subplot(1,5,j+1)\n",
    "    ax.set_xlim(0,28)\n",
    "    ax.set_ylim(0,28)\n",
    "    # plt.xticks(np.linspace(0,28, num=28))\n",
    "    # plt.yticks(np.linspace(0,28, num=28))\n",
    "    trajectory = np.zeros([29,29])\n",
    "    for i in range(len(trajectory_I1)):\n",
    "        trajectory[int(even(trajectory_V1[i],28))][int(even(trajectory_I1[i],28))] = 1\n",
    "#     fig.set_size_inches(50/100.0,50/100.0)#输出width*height像素\n",
    "#     plt.gca().xaxis.set_major_locator(plt.NullLocator())\n",
    "#     plt.gca().yaxis.set_major_locator(plt.NullLocator())\n",
    "#     plt.subplots_adjust(top=1,bottom=0,left=0,right=1,hspace =0, wspace =0)\n",
    "#     plt.margins(0,0)\n",
    "#     plt.savefig('./%s.jpg'%j)#path为你将保存图片的路径。\n",
    "    plt.imshow(trajectory,cmap = cm.Greys_r,interpolation='None')\n",
    "    plt.tick_params(axis='both',which='both',labelbottom='off',labelleft='off')\n",
    "    \n",
    "\n",
    "    plt.axis('off')\n",
    "    #plt.grid()"
   ]
  },
  {
   "cell_type": "code",
   "execution_count": null,
   "metadata": {},
   "outputs": [],
   "source": []
  },
  {
   "cell_type": "code",
   "execution_count": null,
   "metadata": {},
   "outputs": [],
   "source": []
  }
 ],
 "metadata": {
  "kernelspec": {
   "display_name": "Python 3",
   "language": "python",
   "name": "python3"
  },
  "language_info": {
   "codemirror_mode": {
    "name": "ipython",
    "version": 3
   },
   "file_extension": ".py",
   "mimetype": "text/x-python",
   "name": "python",
   "nbconvert_exporter": "python",
   "pygments_lexer": "ipython3",
   "version": "3.7.3"
  },
  "toc": {
   "base_numbering": 1,
   "nav_menu": {},
   "number_sections": true,
   "sideBar": true,
   "skip_h1_title": false,
   "title_cell": "Table of Contents",
   "title_sidebar": "Contents",
   "toc_cell": false,
   "toc_position": {},
   "toc_section_display": true,
   "toc_window_display": false
  }
 },
 "nbformat": 4,
 "nbformat_minor": 2
}
